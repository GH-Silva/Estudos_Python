{
 "cells": [
  {
   "cell_type": "code",
   "execution_count": null,
   "id": "064c52b0",
   "metadata": {},
   "outputs": [],
   "source": [
    "import pandas as pd\n",
    "import pyodbc\n",
    " \n",
    "# Definindo a variável de conexão com o banco de dados para autenticação do SQL Server\n",
    "dados_conexao = (\n",
    "    \"Driver={SQL Server};\"\n",
    "    \"Server=Nome_Servidor;\"  # Certifique-se de usar duas barras invertidas\n",
    "    \"Database=Nome_Banco;\"\n",
    "    \"UID=Matrícula_Rede;\"  # Nome de usuário da rede\n",
    "    \"PWD=Senha_Do_Banco;\"  # Senha do Banco de Dados\n",
    ")\n",
    " \n",
    "try:\n",
    "    conexao = pyodbc.connect(dados_conexao)\n",
    "    print(\"Conexão bem-sucedida!\")\n",
    "except Exception as e:\n",
    "    print(f\"Erro na conexão: {e}\")\n",
    " \n",
    " \n",
    " \n",
    "comandoSQL = \"SELECT * FROM TABELA WHERE AnoMesRef = 202401\" # Comandos em SQL Server com aspas duplas.\n",
    "dados_importados = pd.read_sql(comandoSQL, conexao) #Tabela do SQL\n",
    " \n",
    " \n",
    "display(dados_importados) #Mostrar tabela\n",
    " \n",
    "dados_importados.shape #Contagem de linhas e colunas \n"
   ]
  }
 ],
 "metadata": {
  "language_info": {
   "name": "python"
  }
 },
 "nbformat": 4,
 "nbformat_minor": 5
}
